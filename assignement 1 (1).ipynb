{
 "cells": [
  {
   "cell_type": "markdown",
   "id": "0fd40674-a714-41c5-9c87-552c66e29164",
   "metadata": {},
   "source": [
    "1. In the below elements which of them are values or an expression? eg:- values can be\n",
    "integer or string and expressions will be mathematical operators."
   ]
  },
  {
   "cell_type": "code",
   "execution_count": 41,
   "id": "73f8540a-3e01-494e-b248-4ea179648de2",
   "metadata": {},
   "outputs": [
    {
     "name": "stdout",
     "output_type": "stream",
     "text": [
      "*this is expression\n"
     ]
    }
   ],
   "source": [
    "name = \"*\"  '''this is expression'''\n",
    "print(name)"
   ]
  },
  {
   "cell_type": "code",
   "execution_count": 11,
   "id": "45324eef-e880-4b5e-9ed1-1cb6c5b50d48",
   "metadata": {},
   "outputs": [
    {
     "name": "stdout",
     "output_type": "stream",
     "text": [
      "hello\n"
     ]
    }
   ],
   "source": [
    "name1 = 'hello'   ''' this is value'''\n",
    "print(name1)"
   ]
  },
  {
   "cell_type": "code",
   "execution_count": 17,
   "id": "0ef19834-a169-4389-8124-472cdd29c428",
   "metadata": {},
   "outputs": [
    {
     "data": {
      "text/plain": [
       "float"
      ]
     },
     "execution_count": 17,
     "metadata": {},
     "output_type": "execute_result"
    }
   ],
   "source": [
    "name2 = -87.8   ''' this is value'''\n",
    "type(-87.8)"
   ]
  },
  {
   "cell_type": "code",
   "execution_count": 33,
   "id": "4ace19a9-1574-4de9-8fd6-c91569290f6f",
   "metadata": {
    "scrolled": true
   },
   "outputs": [
    {
     "name": "stdout",
     "output_type": "stream",
     "text": [
      "- this is expression\n"
     ]
    }
   ],
   "source": [
    "name3= \"-\" ''' this is expression'''\n",
    "print(name3)"
   ]
  },
  {
   "cell_type": "code",
   "execution_count": 31,
   "id": "92b784b3-3294-4ef6-af2f-695f33bdcfd0",
   "metadata": {},
   "outputs": [
    {
     "name": "stdout",
     "output_type": "stream",
     "text": [
      "/this is expression\n"
     ]
    }
   ],
   "source": [
    "name4 = \"/\" '''this is expression'''\n",
    "print(name4)"
   ]
  },
  {
   "cell_type": "code",
   "execution_count": 47,
   "id": "892db34e-26e3-4d58-af5e-d4eb1a792d40",
   "metadata": {},
   "outputs": [
    {
     "name": "stdout",
     "output_type": "stream",
     "text": [
      "+ ths is expression\n"
     ]
    }
   ],
   "source": [
    "name5 = \"+\"   ''' ths is expression'''\n",
    "print(name5)"
   ]
  },
  {
   "cell_type": "code",
   "execution_count": 49,
   "id": "1e19bacb-ae5b-47c1-a030-ce34e85b8e7e",
   "metadata": {},
   "outputs": [
    {
     "name": "stdout",
     "output_type": "stream",
     "text": [
      "6this is value\n"
     ]
    }
   ],
   "source": [
    "name6 = \"6\"   '''this is value'''\n",
    "print(name6)"
   ]
  },
  {
   "cell_type": "markdown",
   "id": "6911fce8-4b32-49e3-a5ce-a615ba76d1e3",
   "metadata": {},
   "source": [
    "2. What is the difference between string and variable?"
   ]
  },
  {
   "cell_type": "markdown",
   "id": "3398b648-023b-421a-b4c5-f368276dd7be",
   "metadata": {},
   "source": [
    "String:String are sequence of characters enclosed within single quote, double quote or they are represent text date. Eg: \n",
    ":'hello', \"python class\"\n",
    "\n",
    "variable: Variable are named storage location in memory that hold value.they act as a containers that can store different date type\n",
    "including string eg: my_variable = \"hello python\"\n",
    "\n",
    "2.srting are used to represent textual data while variable are used to store and manipulate date of various type including string.\n",
    "\n",
    "3.string are immutable,means there individual cannot be changed once the string is created variable are mutable ,we can change the values tored \n",
    " in variable at any time\n",
    " "
   ]
  },
  {
   "cell_type": "markdown",
   "id": "4531304d-58ee-4211-a243-e4e4fe082b58",
   "metadata": {},
   "source": [
    "3. Describe three different data types."
   ]
  },
  {
   "cell_type": "markdown",
   "id": "ba9bdb26-943d-4eb6-bca5-404ac495c374",
   "metadata": {},
   "source": [
    "string data type:the string is a sequence of characters, string is represent by either single or double code like 'hello'\n",
    "\"hello pythone\"\n",
    "\n",
    "int data type: it represent interger number like 12,13,14\n",
    "\n",
    "float data type : It represent desimal number like 15.54,6.58 etc"
   ]
  },
  {
   "cell_type": "markdown",
   "id": "8d5fd13a-bf01-4b3d-a8a0-28bd173f3ad2",
   "metadata": {},
   "source": [
    "4. What is an expression made up of? What do all expressions do?"
   ]
  },
  {
   "cell_type": "markdown",
   "id": "02190a42-29ab-4727-b78b-93468570620a",
   "metadata": {},
   "source": [
    "An expression is made vlaue like number, string variable  and operators like +,-,*,/\n",
    "\n",
    "it can also include fundtion cell,  parentheses, and other constructs depending  on programing languange.\n",
    "\n",
    "All expression are evaluated to produce a result .The main purpose of expression to compute or return a value after performing operation."
   ]
  },
  {
   "cell_type": "code",
   "execution_count": 10,
   "id": "d93442f0-9051-412a-bc31-bdc2362ec70f",
   "metadata": {},
   "outputs": [
    {
     "data": {
      "text/plain": [
       "8"
      ]
     },
     "execution_count": 10,
     "metadata": {},
     "output_type": "execute_result"
    }
   ],
   "source": [
    "3+5"
   ]
  },
  {
   "cell_type": "markdown",
   "id": "c8866521-43db-4a54-a433-40789611872a",
   "metadata": {},
   "source": [
    "5. This assignment statements, like spam = 10. What is the difference between an\n",
    "expression and a statement?"
   ]
  },
  {
   "cell_type": "markdown",
   "id": "9cae1a34-18fd-4c62-891d-be2b3c499856",
   "metadata": {},
   "source": [
    "Expression is a combination of value, variable string and combination when evaluted this prduce a result\n",
    "eg '4+5=9' produce a result\n",
    "\n",
    "A statement is instruction in a program that perform a taks but does not produce a result\n",
    "\n",
    "eg spam = 10 is a statement as the value is 10 of varible 'spam'"
   ]
  },
  {
   "cell_type": "markdown",
   "id": "3a0e242f-a0e5-4c22-a6eb-044ed4d0c74d",
   "metadata": {},
   "source": [
    "6. After running the following code, what does the variable bacon contain?\n",
    "bacon = 22\n",
    "bacon + 1"
   ]
  },
  {
   "cell_type": "markdown",
   "id": "e3351148-ad2f-4653-88e0-78d6864ce353",
   "metadata": {},
   "source": [
    "The variable bacon contain the number \"22 \" and bacon +1 still contain the variable is 'bacon'"
   ]
  },
  {
   "cell_type": "markdown",
   "id": "13699220-1ed8-41d7-8be6-b4e50ba0392f",
   "metadata": {},
   "source": [
    "7. What should the values of the following two terms be?\n",
    "&#39;spam&#39; + &#39;spamspam&#39;\n",
    "&#39;spam&#39; * 3"
   ]
  },
  {
   "cell_type": "markdown",
   "id": "f75bcc83-fbc5-4375-9bd0-33f115fc5b5c",
   "metadata": {},
   "source": [
    "when we add two string  'spam'+'spamspam' we get the result spamspamspam"
   ]
  },
  {
   "cell_type": "code",
   "execution_count": 26,
   "id": "1c1f4685-f378-45b5-b9f8-625d2ef8a919",
   "metadata": {},
   "outputs": [
    {
     "data": {
      "text/plain": [
       "'spamspamspam'"
      ]
     },
     "execution_count": 26,
     "metadata": {},
     "output_type": "execute_result"
    }
   ],
   "source": [
    "'spam'+'spamspam'"
   ]
  },
  {
   "cell_type": "markdown",
   "id": "0097eeec-5ee3-41cb-b23b-2d770cd20193",
   "metadata": {},
   "source": [
    "when we repetition of string in 3 time we get the result is spamspamspam"
   ]
  },
  {
   "cell_type": "code",
   "execution_count": 28,
   "id": "7e595088-c82d-4b4e-9798-b67ff6abecc5",
   "metadata": {},
   "outputs": [
    {
     "data": {
      "text/plain": [
       "'spamspamspam'"
      ]
     },
     "execution_count": 28,
     "metadata": {},
     "output_type": "execute_result"
    }
   ],
   "source": [
    "'spam'*3 "
   ]
  },
  {
   "cell_type": "markdown",
   "id": "15291b36-c803-42ef-881c-89454d373d31",
   "metadata": {},
   "source": [
    "in both case the result is spamspamspam"
   ]
  },
  {
   "cell_type": "markdown",
   "id": "cf5bd95e-4ea6-4fed-bf62-41fe43977106",
   "metadata": {},
   "source": [
    "8. Why is eggs a valid variable name while 100 is invalid?"
   ]
  },
  {
   "cell_type": "markdown",
   "id": "dc90a7ec-61a2-4315-9e9d-d2e6a789dadf",
   "metadata": {},
   "source": [
    "variable always start with letter as eggs start with letter so eggs is valid variable but 100 start with numeric so 100\n",
    "is not valid variable"
   ]
  },
  {
   "cell_type": "markdown",
   "id": "1448f7d9-e8eb-44dc-9ee7-4651537df5bc",
   "metadata": {},
   "source": [
    "9. What three functions can be used to get the integer, floating-point number, or string\n",
    "version of a value?"
   ]
  },
  {
   "cell_type": "markdown",
   "id": "3905dd77-2603-4b06-917b-7e3df4f25200",
   "metadata": {},
   "source": [
    "to convert a value in interger float and string in python we use following method."
   ]
  },
  {
   "cell_type": "code",
   "execution_count": 41,
   "id": "e848fc0e-7489-47b7-9e8b-2eaa0d1547d6",
   "metadata": {},
   "outputs": [
    {
     "name": "stdout",
     "output_type": "stream",
     "text": [
      "6\n"
     ]
    }
   ],
   "source": [
    "my_list = 6.9\n",
    "print(int(my_list))"
   ]
  },
  {
   "cell_type": "code",
   "execution_count": 43,
   "id": "459a561f-63c2-4fce-8c94-0e60eb240b1d",
   "metadata": {},
   "outputs": [
    {
     "name": "stdout",
     "output_type": "stream",
     "text": [
      "6.9\n"
     ]
    }
   ],
   "source": [
    "print(float(my_list))"
   ]
  },
  {
   "cell_type": "code",
   "execution_count": 49,
   "id": "19fd6da2-5be7-4a94-a2fa-7fba03550836",
   "metadata": {},
   "outputs": [
    {
     "name": "stdout",
     "output_type": "stream",
     "text": [
      "6.9\n"
     ]
    }
   ],
   "source": [
    "print(str(my_list))"
   ]
  },
  {
   "cell_type": "markdown",
   "id": "0d89c57c-b162-4a37-b099-eae5d3d442f4",
   "metadata": {},
   "source": [
    "10. Why does this expression cause an error? How can you fix it?\n",
    "&#39;I have eaten &#39; + 99 + &#39; burritos.&#39;"
   ]
  },
  {
   "cell_type": "markdown",
   "id": "119e0084-6edb-4513-b949-7fafcd7aba88",
   "metadata": {},
   "source": [
    "pyhton does not allow the concatenation of string and integer directly\n",
    "\n",
    "in the expression  'I have eaten ' + 99 + ' burritos.' 'I have eaten ' is a string , 99 is a interger and  burritos is a string python\n",
    " expects all parts of the concatenation to be of the same type but 99 is inter so we can fix this with"
   ]
  },
  {
   "cell_type": "code",
   "execution_count": 63,
   "id": "11684ffb-727f-494b-939b-1d351a3c49d2",
   "metadata": {},
   "outputs": [
    {
     "data": {
      "text/plain": [
       "'I have eaten 99 burritos'"
      ]
     },
     "execution_count": 63,
     "metadata": {},
     "output_type": "execute_result"
    }
   ],
   "source": [
    "'I have eaten ' + str(99) + ' burritos'"
   ]
  },
  {
   "cell_type": "code",
   "execution_count": null,
   "id": "0abcaac4-818f-45f1-9c06-ad8a0b445ef8",
   "metadata": {},
   "outputs": [],
   "source": []
  }
 ],
 "metadata": {
  "kernelspec": {
   "display_name": "Python 3 (ipykernel)",
   "language": "python",
   "name": "python3"
  },
  "language_info": {
   "codemirror_mode": {
    "name": "ipython",
    "version": 3
   },
   "file_extension": ".py",
   "mimetype": "text/x-python",
   "name": "python",
   "nbconvert_exporter": "python",
   "pygments_lexer": "ipython3",
   "version": "3.12.4"
  }
 },
 "nbformat": 4,
 "nbformat_minor": 5
}
